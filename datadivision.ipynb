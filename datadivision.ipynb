{
  "cells": [
    {
      "cell_type": "markdown",
      "metadata": {
        "id": "view-in-github",
        "colab_type": "text"
      },
      "source": [
        "<a href=\"https://colab.research.google.com/github/salmaelgd/land_use_change_image_classification/blob/main/datadivision.ipynb\" target=\"_parent\"><img src=\"https://colab.research.google.com/assets/colab-badge.svg\" alt=\"Open In Colab\"/></a>"
      ]
    },
    {
      "cell_type": "code",
      "execution_count": 1,
      "metadata": {
        "colab": {
          "base_uri": "https://localhost:8080/"
        },
        "id": "cFsEHL1PFPGf",
        "outputId": "60ec1a9c-53f3-484e-c436-b45fe28afa11"
      },
      "outputs": [
        {
          "output_type": "stream",
          "name": "stdout",
          "text": [
            "Drive already mounted at /content/drive; to attempt to forcibly remount, call drive.mount(\"/content/drive\", force_remount=True).\n"
          ]
        }
      ],
      "source": [
        "from google.colab import drive\n",
        "\n",
        "drive.mount('/content/drive')"
      ]
    },
    {
      "cell_type": "code",
      "execution_count": 2,
      "metadata": {
        "id": "o0cQbEj0R-QL",
        "colab": {
          "base_uri": "https://localhost:8080/"
        },
        "outputId": "23dd79f6-42c0-4009-ae15-96ec32dbbf3e"
      },
      "outputs": [
        {
          "output_type": "stream",
          "name": "stdout",
          "text": [
            "Division des données terminée avec succès.\n"
          ]
        }
      ],
      "source": [
        "import os\n",
        "import shutil\n",
        "from sklearn.model_selection import train_test_split\n",
        "\n",
        "\n",
        "data_folder = '/content/drive/MyDrive/EuroSAT_RGB/EuroSAT_RGB'\n",
        "\n",
        "# new path\n",
        "output_folder = '/content/drive/MyDrive/land_use_change'\n",
        "\n",
        "# create train and test\n",
        "train_folder = os.path.join(output_folder, 'train')\n",
        "test_folder = os.path.join(output_folder, 'test')\n",
        "os.makedirs(train_folder, exist_ok=True)\n",
        "os.makedirs(test_folder, exist_ok=True)\n",
        "\n",
        "# Parcourir chaque classe dans le dossier de données\n",
        "for class_folder in os.listdir(data_folder):\n",
        "    class_path = os.path.join(data_folder, class_folder)\n",
        "    if os.path.isdir(class_path):\n",
        "        # Séparer les données de chaque classe en train et test\n",
        "        train_class_folder = os.path.join(train_folder, class_folder)\n",
        "        test_class_folder = os.path.join(test_folder, class_folder)\n",
        "        os.makedirs(train_class_folder, exist_ok=True)\n",
        "        os.makedirs(test_class_folder, exist_ok=True)\n",
        "\n",
        "        files = os.listdir(class_path)\n",
        "        train_files, test_files = train_test_split(files, test_size=0.2, random_state=42)\n",
        "\n",
        "        for file in train_files:\n",
        "            src = os.path.join(class_path, file)\n",
        "            dst = os.path.join(train_class_folder, file)\n",
        "            shutil.copy(src, dst)\n",
        "\n",
        "        for file in test_files:\n",
        "            src = os.path.join(class_path, file)\n",
        "            dst = os.path.join(test_class_folder, file)\n",
        "            shutil.copy(src, dst)\n",
        "\n",
        "print(\"Division des données terminée avec succès.\")\n"
      ]
    },
    {
      "cell_type": "code",
      "source": [
        "# Afficher les classes de train\n",
        "print(\"Classes dans le dossier de train :\")\n",
        "for class_folder in os.listdir(train_folder):\n",
        "    print(class_folder)\n",
        "\n",
        "# Afficher les classes de test\n",
        "print(\"\\nClasses dans le dossier de test :\")\n",
        "for class_folder in os.listdir(test_folder):\n",
        "    print(class_folder)\n"
      ],
      "metadata": {
        "colab": {
          "base_uri": "https://localhost:8080/"
        },
        "id": "LNlmZ5YnO4AK",
        "outputId": "d679f2d5-8b1c-4351-d544-2ef149468ba7"
      },
      "execution_count": 4,
      "outputs": [
        {
          "output_type": "stream",
          "name": "stdout",
          "text": [
            "Classes dans le dossier de train :\n",
            "Pasture\n",
            "AnnualCrop\n",
            "Industrial\n",
            "SeaLake\n",
            "HerbaceousVegetation\n",
            "PermanentCrop\n",
            "River\n",
            "Highway\n",
            "Forest\n",
            "Residential\n",
            "\n",
            "Classes dans le dossier de test :\n",
            "Pasture\n",
            "AnnualCrop\n",
            "Industrial\n",
            "SeaLake\n",
            "HerbaceousVegetation\n",
            "PermanentCrop\n",
            "River\n",
            "Highway\n",
            "Forest\n",
            "Residential\n"
          ]
        }
      ]
    }
  ],
  "metadata": {
    "accelerator": "GPU",
    "colab": {
      "gpuType": "T4",
      "provenance": [],
      "mount_file_id": "157gqIhFbi5iWbEuaR6_6L7-Z3KEqHdPB",
      "authorship_tag": "ABX9TyNqFwAu5T8AdshDbowl4REO",
      "include_colab_link": true
    },
    "kernelspec": {
      "display_name": "Python 3",
      "name": "python3"
    },
    "language_info": {
      "name": "python"
    }
  },
  "nbformat": 4,
  "nbformat_minor": 0
}